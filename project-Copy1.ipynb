{
 "cells": [
  {
   "cell_type": "code",
   "execution_count": 1,
   "metadata": {},
   "outputs": [],
   "source": [
    "import pandas as pd\n",
    "import json\n",
    "import ast\n",
    "import csv\n",
    "from sqlalchemy import create_engine\n",
    "import sqlalchemy"
   ]
  },
  {
   "cell_type": "markdown",
   "metadata": {},
   "source": [
    "### Connect to local database"
   ]
  },
  {
   "cell_type": "code",
   "execution_count": 2,
   "metadata": {},
   "outputs": [],
   "source": [
    "rds_connection_string = \"root:root@127.0.0.1/movie_db\"\n",
    "engine = create_engine(f'mysql://{rds_connection_string}')"
   ]
  },
  {
   "cell_type": "markdown",
   "metadata": {},
   "source": [
    "# Defining Functions"
   ]
  },
  {
   "cell_type": "code",
   "execution_count": 3,
   "metadata": {},
   "outputs": [],
   "source": [
    "def clean(x):\n",
    "        if hasattr(x, '__iter__'):\n",
    "            return ''.join([i if 32 < ord(i) < 128 else \" \" for i in x])\n",
    "        else:\n",
    "            return x"
   ]
  },
  {
   "cell_type": "markdown",
   "metadata": {},
   "source": [
    "# Movies Metadata"
   ]
  },
  {
   "cell_type": "markdown",
   "metadata": {},
   "source": [
    "importing the csv file & creating the DataFrame"
   ]
  },
  {
   "cell_type": "code",
   "execution_count": 4,
   "metadata": {
    "scrolled": true
   },
   "outputs": [
    {
     "data": {
      "text/plain": [
       "adult                    45466\n",
       "belongs_to_collection    45466\n",
       "budget                   45466\n",
       "genres                   45466\n",
       "homepage                 45466\n",
       "id                       45466\n",
       "imdb_id                  45466\n",
       "original_language        45466\n",
       "original_title           45466\n",
       "overview                 45466\n",
       "popularity               45463\n",
       "poster_path              45463\n",
       "production_companies     45463\n",
       "production_countries     45463\n",
       "release_date             45463\n",
       "revenue                  45460\n",
       "runtime                  45460\n",
       "spoken_languages         45460\n",
       "status                   45460\n",
       "tagline                  45460\n",
       "title                    45460\n",
       "video                    45460\n",
       "vote_average             45460\n",
       "vote_count               45460\n",
       "dtype: int64"
      ]
     },
     "execution_count": 4,
     "metadata": {},
     "output_type": "execute_result"
    }
   ],
   "source": [
    "csv_file = \"movies_dataset/movies_metadata.csv\"\n",
    "df = open(csv_file,encoding=\"utf-8\")\n",
    "reader=csv.DictReader(df)\n",
    "movies_metadata_df =(pd.DataFrame(list(reader)))\n",
    "movies_metadata_df.count()\n",
    "movies_metadata_df=movies_metadata_df.applymap(clean)\n",
    "movies_metadata_df.head()\n",
    "movies_metadata_df.count()"
   ]
  },
  {
   "cell_type": "code",
   "execution_count": null,
   "metadata": {},
   "outputs": [],
   "source": [
    "#clean the dataFrame & removing unwanted columns\n",
    "new_movies_metadata_df=movies_metadata_df[['id','imdb_id','budget','adult','original_language','original_title','title','overview','popularity','release_date','revenue','runtime','status','tagline','video','vote_average','vote_count']]\n",
    "new_movies_metadata_df=new_movies_metadata_df.rename(columns={'id':'tmdbid'})\n",
    "new_movies_metadata_df=new_movies_metadata_df.drop_duplicates(subset=\"tmdbid\")\n",
    "new_movies_metadata_df.count()"
   ]
  },
  {
   "cell_type": "code",
   "execution_count": null,
   "metadata": {},
   "outputs": [],
   "source": [
    "#create \"movies\" table in MySQl \n",
    "new_movies_metadata_df.to_sql(name='movies', con=engine, if_exists='replace',index=False)"
   ]
  },
  {
   "cell_type": "code",
   "execution_count": null,
   "metadata": {},
   "outputs": [],
   "source": [
    "#Assign primary key to \"tmdbid\" & delete bad rows\n",
    "with engine.begin() as conn:\n",
    "    conn.execute('delete from movies where tmdbid=1997 or tmdbid=2012 or tmdbid=2014')\n",
    "    conn.execute('ALTER TABLE  movies MODIFY tmdbid varchar(20) primary key')"
   ]
  },
  {
   "cell_type": "markdown",
   "metadata": {},
   "source": [
    "# Credits "
   ]
  },
  {
   "cell_type": "code",
   "execution_count": null,
   "metadata": {
    "scrolled": true
   },
   "outputs": [],
   "source": [
    "csv_file = \"movies_dataset/credits.csv\"\n",
    "df = open(csv_file,encoding=\"utf-8\")\n",
    "reader=csv.DictReader(df)\n",
    "credits_df=pd.DataFrame(list(reader))\n",
    "print(credits_df.count())\n",
    "credits_df.head()"
   ]
  },
  {
   "cell_type": "markdown",
   "metadata": {},
   "source": [
    "# Cast"
   ]
  },
  {
   "cell_type": "code",
   "execution_count": null,
   "metadata": {},
   "outputs": [],
   "source": [
    "# convert \"cast\" dictionary to List\n",
    "cast=[]\n",
    "for index,row in credits_df.iterrows():\n",
    "    temp_cast=ast.literal_eval(row['cast'])\n",
    "    for c in temp_cast:\n",
    "        c['tmdbid']=row['id']\n",
    "    cast.extend(temp_cast)  "
   ]
  },
  {
   "cell_type": "code",
   "execution_count": null,
   "metadata": {},
   "outputs": [],
   "source": [
    "cast_df=pd.DataFrame(cast)\n",
    "print(cast_df.count())\n",
    "cast_df.head()"
   ]
  },
  {
   "cell_type": "code",
   "execution_count": null,
   "metadata": {},
   "outputs": [],
   "source": [
    "new_cast_df=cast_df[['cast_id','character','credit_id','gender','id','tmdbid','name','order','profile_path']].copy()\n",
    "new_cast_df=new_cast_df.drop_duplicates(subset=\"credit_id\")\n",
    "new_cast_df=new_cast_df.applymap(clean)\n",
    "new_cast_df.head()"
   ]
  },
  {
   "cell_type": "code",
   "execution_count": null,
   "metadata": {},
   "outputs": [],
   "source": [
    "new_cast_df.to_sql(name='cast', con=engine, if_exists='replace',index=True)"
   ]
  },
  {
   "cell_type": "code",
   "execution_count": null,
   "metadata": {},
   "outputs": [],
   "source": [
    "#Assign primary key to \"credit_id\" & foreign key to \"tmdb\" references to table \"movies\"\n",
    "with engine.begin() as conn:\n",
    "    conn.execute('ALTER TABLE cast MODIFY credit_id varchar(50) primary key')\n",
    "    conn.execute('delete from cast where tmdbid not in (select tmdbid from movies)')\n",
    "    conn.execute('ALTER TABLE cast modify tmdbid varchar(20), ADD FOREIGN KEY (tmdbid) REFERENCES movies(tmdbid)')"
   ]
  },
  {
   "cell_type": "code",
   "execution_count": null,
   "metadata": {
    "scrolled": true
   },
   "outputs": [],
   "source": [
    "pd.read_sql_query('select * from cast', con=engine)"
   ]
  },
  {
   "cell_type": "markdown",
   "metadata": {},
   "source": [
    "# Crew"
   ]
  },
  {
   "cell_type": "code",
   "execution_count": null,
   "metadata": {},
   "outputs": [],
   "source": [
    "# convert \"cast\" dictionary to List\n",
    "crew=[]\n",
    "for index,row in credits_df.iterrows():\n",
    "    temp_crew=ast.literal_eval(row['crew'])\n",
    "    for c in temp_crew:\n",
    "        c['tmdbid']=row['id']\n",
    "    crew.extend(temp_crew)  "
   ]
  },
  {
   "cell_type": "code",
   "execution_count": null,
   "metadata": {},
   "outputs": [],
   "source": [
    "crew_df=pd.DataFrame(crew)\n",
    "print(crew_df.count())\n",
    "crew_df.head()"
   ]
  },
  {
   "cell_type": "code",
   "execution_count": null,
   "metadata": {},
   "outputs": [],
   "source": [
    "crew_df=crew_df.drop_duplicates(subset=\"credit_id\")\n",
    "crew_df=crew_df.applymap(clean)\n",
    "crew_df.count()\n",
    "crew_df.head()"
   ]
  },
  {
   "cell_type": "code",
   "execution_count": null,
   "metadata": {},
   "outputs": [],
   "source": [
    "crew_df.to_sql(name='crew', con=engine, if_exists='replace',index=False)"
   ]
  },
  {
   "cell_type": "code",
   "execution_count": null,
   "metadata": {},
   "outputs": [],
   "source": [
    "#Assign primary key to \"credit_id\" & foreign key to \"tmdb\" references to table \"movies\"\n",
    "with engine.begin() as conn:\n",
    "    conn.execute('delete from crew where tmdbid not in (select tmdbid from movies)')\n",
    "    conn.execute('ALTER TABLE crew MODIFY credit_id varchar(50) primary key')\n",
    "    conn.execute('ALTER TABLE crew modify tmdbid varchar(20), ADD FOREIGN KEY (tmdbid) REFERENCES movies(tmdbid)')"
   ]
  },
  {
   "cell_type": "markdown",
   "metadata": {},
   "source": [
    "# Keywords"
   ]
  },
  {
   "cell_type": "code",
   "execution_count": 5,
   "metadata": {},
   "outputs": [
    {
     "name": "stdout",
     "output_type": "stream",
     "text": [
      "id          46419\n",
      "keywords    46419\n",
      "dtype: int64\n"
     ]
    },
    {
     "data": {
      "text/html": [
       "<div>\n",
       "<style scoped>\n",
       "    .dataframe tbody tr th:only-of-type {\n",
       "        vertical-align: middle;\n",
       "    }\n",
       "\n",
       "    .dataframe tbody tr th {\n",
       "        vertical-align: top;\n",
       "    }\n",
       "\n",
       "    .dataframe thead th {\n",
       "        text-align: right;\n",
       "    }\n",
       "</style>\n",
       "<table border=\"1\" class=\"dataframe\">\n",
       "  <thead>\n",
       "    <tr style=\"text-align: right;\">\n",
       "      <th></th>\n",
       "      <th>id</th>\n",
       "      <th>keywords</th>\n",
       "    </tr>\n",
       "  </thead>\n",
       "  <tbody>\n",
       "    <tr>\n",
       "      <th>0</th>\n",
       "      <td>862</td>\n",
       "      <td>[{'id': 931, 'name': 'jealousy'}, {'id': 4290,...</td>\n",
       "    </tr>\n",
       "    <tr>\n",
       "      <th>1</th>\n",
       "      <td>8844</td>\n",
       "      <td>[{'id': 10090, 'name': 'board game'}, {'id': 1...</td>\n",
       "    </tr>\n",
       "    <tr>\n",
       "      <th>2</th>\n",
       "      <td>15602</td>\n",
       "      <td>[{'id': 1495, 'name': 'fishing'}, {'id': 12392...</td>\n",
       "    </tr>\n",
       "    <tr>\n",
       "      <th>3</th>\n",
       "      <td>31357</td>\n",
       "      <td>[{'id': 818, 'name': 'based on novel'}, {'id':...</td>\n",
       "    </tr>\n",
       "    <tr>\n",
       "      <th>4</th>\n",
       "      <td>11862</td>\n",
       "      <td>[{'id': 1009, 'name': 'baby'}, {'id': 1599, 'n...</td>\n",
       "    </tr>\n",
       "  </tbody>\n",
       "</table>\n",
       "</div>"
      ],
      "text/plain": [
       "      id                                           keywords\n",
       "0    862  [{'id': 931, 'name': 'jealousy'}, {'id': 4290,...\n",
       "1   8844  [{'id': 10090, 'name': 'board game'}, {'id': 1...\n",
       "2  15602  [{'id': 1495, 'name': 'fishing'}, {'id': 12392...\n",
       "3  31357  [{'id': 818, 'name': 'based on novel'}, {'id':...\n",
       "4  11862  [{'id': 1009, 'name': 'baby'}, {'id': 1599, 'n..."
      ]
     },
     "execution_count": 5,
     "metadata": {},
     "output_type": "execute_result"
    }
   ],
   "source": [
    "csv_file = \"movies_dataset/keywords.csv\"\n",
    "keywords_df = pd.read_csv(csv_file)\n",
    "print(keywords_df.count())\n",
    "keywords_df.head()"
   ]
  },
  {
   "cell_type": "code",
   "execution_count": 6,
   "metadata": {},
   "outputs": [],
   "source": [
    "# convert \"keyword\" dictionary to List\n",
    "keyword=[]\n",
    "for index,row in keywords_df.iterrows():\n",
    "    temp_word=ast.literal_eval(row['keywords'])\n",
    "    for c in temp_word:\n",
    "        c['tmdbid']=row['id']\n",
    "    keyword.extend(temp_word) "
   ]
  },
  {
   "cell_type": "code",
   "execution_count": 7,
   "metadata": {},
   "outputs": [
    {
     "name": "stdout",
     "output_type": "stream",
     "text": [
      "keyword_id    158680\n",
      "name          158680\n",
      "tmdbid        158680\n",
      "dtype: int64\n"
     ]
    },
    {
     "data": {
      "text/html": [
       "<div>\n",
       "<style scoped>\n",
       "    .dataframe tbody tr th:only-of-type {\n",
       "        vertical-align: middle;\n",
       "    }\n",
       "\n",
       "    .dataframe tbody tr th {\n",
       "        vertical-align: top;\n",
       "    }\n",
       "\n",
       "    .dataframe thead th {\n",
       "        text-align: right;\n",
       "    }\n",
       "</style>\n",
       "<table border=\"1\" class=\"dataframe\">\n",
       "  <thead>\n",
       "    <tr style=\"text-align: right;\">\n",
       "      <th></th>\n",
       "      <th>keyword_id</th>\n",
       "      <th>name</th>\n",
       "      <th>tmdbid</th>\n",
       "    </tr>\n",
       "  </thead>\n",
       "  <tbody>\n",
       "    <tr>\n",
       "      <th>0</th>\n",
       "      <td>931</td>\n",
       "      <td>jealousy</td>\n",
       "      <td>862</td>\n",
       "    </tr>\n",
       "    <tr>\n",
       "      <th>1</th>\n",
       "      <td>4290</td>\n",
       "      <td>toy</td>\n",
       "      <td>862</td>\n",
       "    </tr>\n",
       "    <tr>\n",
       "      <th>2</th>\n",
       "      <td>5202</td>\n",
       "      <td>boy</td>\n",
       "      <td>862</td>\n",
       "    </tr>\n",
       "    <tr>\n",
       "      <th>3</th>\n",
       "      <td>6054</td>\n",
       "      <td>friendship</td>\n",
       "      <td>862</td>\n",
       "    </tr>\n",
       "    <tr>\n",
       "      <th>4</th>\n",
       "      <td>9713</td>\n",
       "      <td>friends</td>\n",
       "      <td>862</td>\n",
       "    </tr>\n",
       "  </tbody>\n",
       "</table>\n",
       "</div>"
      ],
      "text/plain": [
       "   keyword_id        name  tmdbid\n",
       "0         931    jealousy     862\n",
       "1        4290         toy     862\n",
       "2        5202         boy     862\n",
       "3        6054  friendship     862\n",
       "4        9713     friends     862"
      ]
     },
     "execution_count": 7,
     "metadata": {},
     "output_type": "execute_result"
    }
   ],
   "source": [
    "keyword_df=pd.DataFrame(keyword)\n",
    "keyword_df=keyword_df.rename(columns={'id':'keyword_id'})\n",
    "keyword_df=keyword_df.applymap(clean)\n",
    "print(keyword_df.count())\n",
    "keyword_df.head()"
   ]
  },
  {
   "cell_type": "markdown",
   "metadata": {},
   "source": [
    "### defining unique keywords in database"
   ]
  },
  {
   "cell_type": "code",
   "execution_count": 33,
   "metadata": {},
   "outputs": [
    {
     "data": {
      "text/html": [
       "<div>\n",
       "<style scoped>\n",
       "    .dataframe tbody tr th:only-of-type {\n",
       "        vertical-align: middle;\n",
       "    }\n",
       "\n",
       "    .dataframe tbody tr th {\n",
       "        vertical-align: top;\n",
       "    }\n",
       "\n",
       "    .dataframe thead th {\n",
       "        text-align: right;\n",
       "    }\n",
       "</style>\n",
       "<table border=\"1\" class=\"dataframe\">\n",
       "  <thead>\n",
       "    <tr style=\"text-align: right;\">\n",
       "      <th></th>\n",
       "      <th>keyword_id</th>\n",
       "      <th>name</th>\n",
       "    </tr>\n",
       "  </thead>\n",
       "  <tbody>\n",
       "    <tr>\n",
       "      <th>0</th>\n",
       "      <td>931</td>\n",
       "      <td>jealousy</td>\n",
       "    </tr>\n",
       "    <tr>\n",
       "      <th>1</th>\n",
       "      <td>4290</td>\n",
       "      <td>toy</td>\n",
       "    </tr>\n",
       "    <tr>\n",
       "      <th>2</th>\n",
       "      <td>5202</td>\n",
       "      <td>boy</td>\n",
       "    </tr>\n",
       "    <tr>\n",
       "      <th>3</th>\n",
       "      <td>6054</td>\n",
       "      <td>friendship</td>\n",
       "    </tr>\n",
       "    <tr>\n",
       "      <th>4</th>\n",
       "      <td>9713</td>\n",
       "      <td>friends</td>\n",
       "    </tr>\n",
       "  </tbody>\n",
       "</table>\n",
       "</div>"
      ],
      "text/plain": [
       "   keyword_id        name\n",
       "0         931    jealousy\n",
       "1        4290         toy\n",
       "2        5202         boy\n",
       "3        6054  friendship\n",
       "4        9713     friends"
      ]
     },
     "execution_count": 33,
     "metadata": {},
     "output_type": "execute_result"
    }
   ],
   "source": [
    "unique_keyword_df=keyword_df.drop_duplicates(subset=\"keyword_id\")\n",
    "unique_keyword_df=unique_keyword_df[['keyword_id','name']]\n",
    "unique_keyword_df=unique_keyword_df.applymap(clean)\n",
    "unique_keyword_df.head()"
   ]
  },
  {
   "cell_type": "code",
   "execution_count": 17,
   "metadata": {},
   "outputs": [],
   "source": [
    "unique_keyword_df.to_sql(name='unique_keywords', con=engine, if_exists='replace',index=False)"
   ]
  },
  {
   "cell_type": "code",
   "execution_count": 18,
   "metadata": {},
   "outputs": [],
   "source": [
    "with engine.begin() as conn:\n",
    "    conn.execute('ALTER TABLE unique_keywords MODIFY keyword_id double primary key')"
   ]
  },
  {
   "cell_type": "markdown",
   "metadata": {},
   "source": [
    "### Keywords used for movies"
   ]
  },
  {
   "cell_type": "code",
   "execution_count": 19,
   "metadata": {},
   "outputs": [],
   "source": [
    "keyword_df.head(10000).to_sql(name='keywords_for_movies', con=engine, if_exists='replace',index=False)"
   ]
  },
  {
   "cell_type": "code",
   "execution_count": 21,
   "metadata": {},
   "outputs": [],
   "source": [
    "with engine.begin() as conn:\n",
    "    conn.execute('ALTER TABLE keywords_for_movies MODIFY keyword_id double, ADD FOREIGN KEY (keyword_id) REFERENCES unique_keywords(keyword_id)')\n",
    "    conn.execute('ALTER TABLE keywords_for_movies modify tmdbid varchar(20), ADD FOREIGN KEY (tmdbid) REFERENCES movies(tmdbid)')"
   ]
  },
  {
   "cell_type": "markdown",
   "metadata": {},
   "source": [
    "# Movies Metadata- Genres"
   ]
  },
  {
   "cell_type": "code",
   "execution_count": 22,
   "metadata": {},
   "outputs": [],
   "source": [
    "genres=[]\n",
    "for index,row in movies_metadata_df.iterrows():\n",
    "    temp_genres=ast.literal_eval(row['genres'])\n",
    "    for c in temp_genres:\n",
    "        c['tmdbid']=row['id']\n",
    "    genres.extend(temp_genres)  "
   ]
  },
  {
   "cell_type": "code",
   "execution_count": 23,
   "metadata": {},
   "outputs": [
    {
     "data": {
      "text/html": [
       "<div>\n",
       "<style scoped>\n",
       "    .dataframe tbody tr th:only-of-type {\n",
       "        vertical-align: middle;\n",
       "    }\n",
       "\n",
       "    .dataframe tbody tr th {\n",
       "        vertical-align: top;\n",
       "    }\n",
       "\n",
       "    .dataframe thead th {\n",
       "        text-align: right;\n",
       "    }\n",
       "</style>\n",
       "<table border=\"1\" class=\"dataframe\">\n",
       "  <thead>\n",
       "    <tr style=\"text-align: right;\">\n",
       "      <th></th>\n",
       "      <th>id</th>\n",
       "      <th>name</th>\n",
       "      <th>tmdbid</th>\n",
       "    </tr>\n",
       "  </thead>\n",
       "  <tbody>\n",
       "    <tr>\n",
       "      <th>0</th>\n",
       "      <td>16</td>\n",
       "      <td>Animation</td>\n",
       "      <td>862</td>\n",
       "    </tr>\n",
       "    <tr>\n",
       "      <th>1</th>\n",
       "      <td>35</td>\n",
       "      <td>Comedy</td>\n",
       "      <td>862</td>\n",
       "    </tr>\n",
       "    <tr>\n",
       "      <th>2</th>\n",
       "      <td>10751</td>\n",
       "      <td>Family</td>\n",
       "      <td>862</td>\n",
       "    </tr>\n",
       "    <tr>\n",
       "      <th>3</th>\n",
       "      <td>12</td>\n",
       "      <td>Adventure</td>\n",
       "      <td>8844</td>\n",
       "    </tr>\n",
       "    <tr>\n",
       "      <th>4</th>\n",
       "      <td>14</td>\n",
       "      <td>Fantasy</td>\n",
       "      <td>8844</td>\n",
       "    </tr>\n",
       "  </tbody>\n",
       "</table>\n",
       "</div>"
      ],
      "text/plain": [
       "      id       name tmdbid\n",
       "0     16  Animation    862\n",
       "1     35     Comedy    862\n",
       "2  10751     Family    862\n",
       "3     12  Adventure   8844\n",
       "4     14    Fantasy   8844"
      ]
     },
     "execution_count": 23,
     "metadata": {},
     "output_type": "execute_result"
    }
   ],
   "source": [
    "genres_df=pd.DataFrame(genres)\n",
    "new_genres_df=genres_df.drop_duplicates(subset=\"id\")\n",
    "new_genres_df=new_genres_df[['id','name']]\n",
    "new_genres_df=new_genres_df.applymap(clean)\n",
    "genres_df.head()"
   ]
  },
  {
   "cell_type": "code",
   "execution_count": 24,
   "metadata": {},
   "outputs": [],
   "source": [
    "new_genres_df.head(10000).to_sql(name='unique_genres', con=engine, if_exists='replace',index=False)\n",
    "with engine.begin() as conn:\n",
    "    conn.execute('ALTER TABLE unique_genres MODIFY id double primary key')"
   ]
  },
  {
   "cell_type": "code",
   "execution_count": 27,
   "metadata": {},
   "outputs": [],
   "source": [
    "genres_df.to_sql(name='genres_for_movies', con=engine, if_exists='replace',index=False)\n",
    "with engine.begin() as conn:\n",
    "    conn.execute('ALTER TABLE genres_for_movies MODIFY id double, ADD FOREIGN KEY (id) REFERENCES unique_genres(id)')\n",
    "   # conn.execute('ALTER TABLE genres_for_movies modify tmdbid varchar(20), ADD FOREIGN KEY (tmdbid) REFERENCES movies(tmdbid)')"
   ]
  },
  {
   "cell_type": "markdown",
   "metadata": {},
   "source": [
    "# Links"
   ]
  },
  {
   "cell_type": "code",
   "execution_count": 28,
   "metadata": {},
   "outputs": [
    {
     "name": "stdout",
     "output_type": "stream",
     "text": [
      "movieId    45843\n",
      "imdbId     45843\n",
      "tmdbId     45843\n",
      "dtype: int64\n"
     ]
    }
   ],
   "source": [
    "csv_file = \"movies_dataset/links.csv\"\n",
    "df = open(csv_file,encoding=\"utf-8\")\n",
    "reader=csv.DictReader(df)\n",
    "links_df=pd.DataFrame(list(reader))\n",
    "print(links_df.count())"
   ]
  },
  {
   "cell_type": "code",
   "execution_count": 34,
   "metadata": {},
   "outputs": [],
   "source": [
    "links_df.to_sql(name='id_link', con=engine, if_exists='replace',index=False)"
   ]
  },
  {
   "cell_type": "markdown",
   "metadata": {},
   "source": [
    "assigning primary key to movieID column"
   ]
  },
  {
   "cell_type": "code",
   "execution_count": 38,
   "metadata": {},
   "outputs": [],
   "source": [
    "with engine.begin() as conn:\n",
    "    conn.execute('delete from id_link where tmdbID not in (select tmdbid from movies)')\n",
    "    conn.execute('ALTER TABLE id_link MODIFY movieID varchar(20) primary key')\n",
    "    conn.execute('ALTER TABLE id_link modify tmdbID varchar(20), ADD FOREIGN KEY (tmdbID) REFERENCES movies(tmdbid)')"
   ]
  },
  {
   "cell_type": "markdown",
   "metadata": {},
   "source": [
    "# Ratings"
   ]
  },
  {
   "cell_type": "code",
   "execution_count": 4,
   "metadata": {
    "scrolled": true
   },
   "outputs": [
    {
     "name": "stdout",
     "output_type": "stream",
     "text": [
      "userId       26024289\n",
      "movieId      26024289\n",
      "rating       26024289\n",
      "timestamp    26024289\n",
      "dtype: int64\n"
     ]
    }
   ],
   "source": [
    "csv_file = \"movies_dataset/ratings.csv\"\n",
    "ratings_df = pd.read_csv(csv_file)\n",
    "print(ratings_df.count())"
   ]
  },
  {
   "cell_type": "code",
   "execution_count": 15,
   "metadata": {},
   "outputs": [
    {
     "data": {
      "text/html": [
       "<div>\n",
       "<style scoped>\n",
       "    .dataframe tbody tr th:only-of-type {\n",
       "        vertical-align: middle;\n",
       "    }\n",
       "\n",
       "    .dataframe tbody tr th {\n",
       "        vertical-align: top;\n",
       "    }\n",
       "\n",
       "    .dataframe thead th {\n",
       "        text-align: right;\n",
       "    }\n",
       "</style>\n",
       "<table border=\"1\" class=\"dataframe\">\n",
       "  <thead>\n",
       "    <tr style=\"text-align: right;\">\n",
       "      <th></th>\n",
       "      <th>userId</th>\n",
       "      <th>movieId</th>\n",
       "      <th>rating</th>\n",
       "      <th>timestamp</th>\n",
       "    </tr>\n",
       "  </thead>\n",
       "  <tbody>\n",
       "    <tr>\n",
       "      <th>641</th>\n",
       "      <td>12</td>\n",
       "      <td>1</td>\n",
       "      <td>4.0</td>\n",
       "      <td>943912205</td>\n",
       "    </tr>\n",
       "    <tr>\n",
       "      <th>204</th>\n",
       "      <td>8</td>\n",
       "      <td>1</td>\n",
       "      <td>4.0</td>\n",
       "      <td>1013443596</td>\n",
       "    </tr>\n",
       "    <tr>\n",
       "      <th>317</th>\n",
       "      <td>9</td>\n",
       "      <td>1</td>\n",
       "      <td>4.5</td>\n",
       "      <td>1073837180</td>\n",
       "    </tr>\n",
       "    <tr>\n",
       "      <th>27</th>\n",
       "      <td>2</td>\n",
       "      <td>5</td>\n",
       "      <td>3.0</td>\n",
       "      <td>867039249</td>\n",
       "    </tr>\n",
       "    <tr>\n",
       "      <th>905</th>\n",
       "      <td>15</td>\n",
       "      <td>6</td>\n",
       "      <td>4.0</td>\n",
       "      <td>1346008202</td>\n",
       "    </tr>\n",
       "  </tbody>\n",
       "</table>\n",
       "</div>"
      ],
      "text/plain": [
       "     userId  movieId  rating   timestamp\n",
       "641      12        1     4.0   943912205\n",
       "204       8        1     4.0  1013443596\n",
       "317       9        1     4.5  1073837180\n",
       "27        2        5     3.0   867039249\n",
       "905      15        6     4.0  1346008202"
      ]
     },
     "execution_count": 15,
     "metadata": {},
     "output_type": "execute_result"
    }
   ],
   "source": [
    "rating_df=ratings_df.head(1000)\n",
    "rating_df=rating_df.sort_values(by=['movieId'],ascending=True)\n",
    "rating_df.head()"
   ]
  },
  {
   "cell_type": "code",
   "execution_count": 16,
   "metadata": {},
   "outputs": [],
   "source": [
    "rating_df.to_sql(name='rating', con=engine, if_exists='replace',index=False)"
   ]
  },
  {
   "cell_type": "code",
   "execution_count": 18,
   "metadata": {},
   "outputs": [],
   "source": [
    "with engine.begin() as conn:\n",
    "    conn.execute('ALTER TABLE rating modify movieId varchar(20), ADD FOREIGN KEY (movieId) REFERENCES id_link(movieId)')"
   ]
  },
  {
   "cell_type": "code",
   "execution_count": null,
   "metadata": {},
   "outputs": [],
   "source": []
  }
 ],
 "metadata": {
  "kernelspec": {
   "display_name": "Python 3",
   "language": "python",
   "name": "python3"
  },
  "language_info": {
   "codemirror_mode": {
    "name": "ipython",
    "version": 3
   },
   "file_extension": ".py",
   "mimetype": "text/x-python",
   "name": "python",
   "nbconvert_exporter": "python",
   "pygments_lexer": "ipython3",
   "version": "3.7.0"
  }
 },
 "nbformat": 4,
 "nbformat_minor": 2
}
